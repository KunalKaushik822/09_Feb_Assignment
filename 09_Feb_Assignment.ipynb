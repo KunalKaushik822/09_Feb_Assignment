{
 "cells": [
  {
   "cell_type": "code",
   "execution_count": 2,
   "id": "ca4bd4bf-5c8d-4ae8-9b6b-899b15a5931d",
   "metadata": {},
   "outputs": [],
   "source": [
    "#Q1.Create a vehicle class with an init method having instance variables as name_of_vehicle,max_speed and average_of_vehicle.\n"
   ]
  },
  {
   "cell_type": "code",
   "execution_count": 11,
   "id": "780653de-622c-46c4-a122-f87dde4ef0aa",
   "metadata": {},
   "outputs": [],
   "source": [
    "class vehicle:\n",
    "    \n",
    "    def __init__(self, name_of_vehicle,max_speed,average_of_vehicle):\n",
    "        self.name_of_vehicle = name_of_vehicle\n",
    "        self.max_speed = max_speed\n",
    "        self.average_of_vehicle = average_of_vehicle\n",
    "        "
   ]
  },
  {
   "cell_type": "code",
   "execution_count": 12,
   "id": "6d216930-e852-4c4d-acbc-75f8005f7c8c",
   "metadata": {},
   "outputs": [],
   "source": [
    "obj = vehicle(\"Thar\",500,40)"
   ]
  },
  {
   "cell_type": "code",
   "execution_count": 13,
   "id": "088fb066-2da4-4caf-8ac7-69c21914e7b8",
   "metadata": {},
   "outputs": [
    {
     "data": {
      "text/plain": [
       "500"
      ]
     },
     "execution_count": 13,
     "metadata": {},
     "output_type": "execute_result"
    }
   ],
   "source": [
    "obj.max_speed"
   ]
  },
  {
   "cell_type": "code",
   "execution_count": 14,
   "id": "cbe4a04b-5a3b-4297-8372-56d0cbeae753",
   "metadata": {},
   "outputs": [
    {
     "ename": "AttributeError",
     "evalue": "type object 'vehicle' has no attribute 'name_of_vehicle'",
     "output_type": "error",
     "traceback": [
      "\u001b[0;31m---------------------------------------------------------------------------\u001b[0m",
      "\u001b[0;31mAttributeError\u001b[0m                            Traceback (most recent call last)",
      "Cell \u001b[0;32mIn[14], line 9\u001b[0m\n\u001b[1;32m      6\u001b[0m     \u001b[38;5;28;01mdef\u001b[39;00m \u001b[38;5;21mseating_capacity\u001b[39m(\u001b[38;5;28mself\u001b[39m, capacity):\n\u001b[1;32m      7\u001b[0m         \u001b[38;5;28;01mreturn\u001b[39;00m \u001b[38;5;124m\"\u001b[39m\u001b[38;5;124mname_of_vehicle\u001b[39m\u001b[38;5;124m\"\u001b[39m\n\u001b[0;32m----> 9\u001b[0m \u001b[43mvehicle\u001b[49m\u001b[38;5;241;43m.\u001b[39;49m\u001b[43mname_of_vehicle\u001b[49m    \n\u001b[1;32m     10\u001b[0m \u001b[38;5;28mprint\u001b[39m(car\u001b[38;5;241m.\u001b[39mseating_capacity(\u001b[38;5;241m5\u001b[39m))\n",
      "\u001b[0;31mAttributeError\u001b[0m: type object 'vehicle' has no attribute 'name_of_vehicle'"
     ]
    }
   ],
   "source": [
    "#Q2. Create a child class car from the vehicle class created in ques1, which will inherit the vehicle class.\n",
    "# Create a method named seating_capacity which takes capacity as an argument and returns the name of the vehicle and its seating capacity.\n",
    "\n",
    "class car(vehicle):\n",
    "    \n",
    "    def seating_capacity(self, capacity):\n",
    "        return \"name_of_vehicle\"\n",
    "    \n",
    "vehicle.name_of_vehicle    \n",
    "print(car.seating_capacity(5))"
   ]
  },
  {
   "cell_type": "code",
   "execution_count": 9,
   "id": "e64dc247-dc75-4347-9147-6caead8a5747",
   "metadata": {},
   "outputs": [
    {
     "ename": "NameError",
     "evalue": "name 'seating_capacity' is not defined",
     "output_type": "error",
     "traceback": [
      "\u001b[0;31m---------------------------------------------------------------------------\u001b[0m",
      "\u001b[0;31mNameError\u001b[0m                                 Traceback (most recent call last)",
      "Cell \u001b[0;32mIn[9], line 1\u001b[0m\n\u001b[0;32m----> 1\u001b[0m \u001b[43mseating_capacity\u001b[49m()\n",
      "\u001b[0;31mNameError\u001b[0m: name 'seating_capacity' is not defined"
     ]
    }
   ],
   "source": []
  },
  {
   "cell_type": "code",
   "execution_count": 15,
   "id": "2e84838b-a169-4bc8-bfbb-a948371baca6",
   "metadata": {},
   "outputs": [
    {
     "name": "stdout",
     "output_type": "stream",
     "text": [
      "The Toyota Camry has a seating capacity of 5.\n"
     ]
    }
   ],
   "source": [
    "class Vehicle:\n",
    "    def __init__(self, name_of_vehicle, max_speed, average_of_vehicle):\n",
    "        self.name_of_vehicle = name_of_vehicle\n",
    "        self.max_speed = max_speed\n",
    "        self.average_of_vehicle = average_of_vehicle\n",
    "\n",
    "class Car(Vehicle):\n",
    "    def seating_capacity(self, capacity):\n",
    "        return f\"The {self.name_of_vehicle} has a seating capacity of {capacity}.\"\n",
    "\n",
    "# Example usage:\n",
    "car1 = Car(\"Toyota Camry\", 180, 25)\n",
    "print(car1.seating_capacity(5))  # Output: The Toyota Camry has a seating capacity of 5.\n"
   ]
  },
  {
   "cell_type": "code",
   "execution_count": 17,
   "id": "ca7ff358-e869-44d6-a554-5cb71c83d668",
   "metadata": {},
   "outputs": [],
   "source": [
    "# Q3. What is multiple inheritance? Write a python code to demonstrate multiple inheritance.\n",
    "\n",
    "class parent1:\n",
    "    def method1(self):\n",
    "       print(\"method1 form parent1\")\n",
    "class parent2:\n",
    "    def method2(self):\n",
    "        print(\"method from child\")\n",
    "class child(parent1, parent2):\n",
    "    def method3(self):\n",
    "        print(\"method 3 from child\")\n",
    "        \n",
    "child_obj = child()"
   ]
  },
  {
   "cell_type": "code",
   "execution_count": 20,
   "id": "54e936b3-5a73-4f1a-89a7-a1bf7d147df9",
   "metadata": {},
   "outputs": [
    {
     "name": "stdout",
     "output_type": "stream",
     "text": [
      "method1 form parent1\n"
     ]
    }
   ],
   "source": [
    "child_obj.method1()\n"
   ]
  },
  {
   "cell_type": "code",
   "execution_count": 21,
   "id": "31b0bdbd-c50e-4782-ab4a-0131d995ec76",
   "metadata": {},
   "outputs": [
    {
     "name": "stdout",
     "output_type": "stream",
     "text": [
      "method from child\n"
     ]
    }
   ],
   "source": [
    "child_obj.method2()"
   ]
  },
  {
   "cell_type": "code",
   "execution_count": 22,
   "id": "32b9045c-ca31-4e38-95fc-2c0cf9543730",
   "metadata": {},
   "outputs": [
    {
     "name": "stdout",
     "output_type": "stream",
     "text": [
      "method 3 from child\n"
     ]
    }
   ],
   "source": [
    "child_obj.method3()"
   ]
  },
  {
   "cell_type": "code",
   "execution_count": 25,
   "id": "764efe7e-0b03-461d-ad7c-18f6606f4936",
   "metadata": {},
   "outputs": [
    {
     "name": "stdout",
     "output_type": "stream",
     "text": [
      "10\n"
     ]
    }
   ],
   "source": [
    "# Q4. What are getter and setter in python? Create a class and create a getter and a setter method in this\n",
    "# class.\n",
    "\n",
    "# In python , getter and setters are meethodss used to access and modify the private attributes of a class ,respectively. They are commonly used to enforce encapsulation and control access to the class attributes.\n",
    "\n",
    "# A getter method allows you to access the value of a private attribute.\n",
    "# A setter method allows you to modify the vlaue of a private attribute.\n",
    "\n",
    "# Here's an example class withh getter and setter methods.\n",
    "\n",
    "class MyClass:\n",
    "    def __init__(self):\n",
    "        self._my_attribute = None  # Private attribute with a leading underscore convention\n",
    "    \n",
    "    # Getter method\n",
    "    def get_my_attribute(self):\n",
    "        return self._my_attribute\n",
    "    \n",
    "    # Setter method\n",
    "    def set_my_attribute(self, value):\n",
    "        self._my_attribute = value\n",
    "\n",
    "# Example usage:\n",
    "obj = MyClass()\n",
    "\n",
    "# Set the attribute using the setter method\n",
    "obj.set_my_attribute(10)\n",
    "\n",
    "# Get the attribute using the getter method\n",
    "print(obj.get_my_attribute())  # Output: 10\n",
    "\n",
    "# Modify the attribute using the setter method\n",
    "obj.set_my_attribute(20)\n",
    "\n",
    "# Get the modified attribute using the\n"
   ]
  },
  {
   "cell_type": "code",
   "execution_count": 26,
   "id": "85f11803-49a0-45dd-8399-5db4168c2f0f",
   "metadata": {},
   "outputs": [
    {
     "name": "stdout",
     "output_type": "stream",
     "text": [
      "Woof!\n",
      "Meow!\n"
     ]
    }
   ],
   "source": [
    "# Q5. What is method overriding in python? Write a python code to demonstrate method overriding.\n",
    "\n",
    "\n",
    "\n",
    "class Animal:\n",
    "    def make_sound(self):\n",
    "        print(\"Some generic sound\")\n",
    "\n",
    "class Dog(Animal):\n",
    "    def make_sound(self):\n",
    "        print(\"Woof!\")\n",
    "\n",
    "class Cat(Animal):\n",
    "    def make_sound(self):\n",
    "        print(\"Meow!\")\n",
    "\n",
    "# Create instances of Dog and Cat\n",
    "dog = Dog()\n",
    "cat = Cat()\n",
    "\n",
    "# Call make_sound method for Dog and Cat\n",
    "dog.make_sound()  # Output: Woof!\n",
    "cat.make_sound()  # Output: Meow!\n"
   ]
  },
  {
   "cell_type": "code",
   "execution_count": null,
   "id": "53026469-7acc-4fac-b18b-71df3fe2e116",
   "metadata": {},
   "outputs": [],
   "source": []
  }
 ],
 "metadata": {
  "kernelspec": {
   "display_name": "Python 3 (ipykernel)",
   "language": "python",
   "name": "python3"
  },
  "language_info": {
   "codemirror_mode": {
    "name": "ipython",
    "version": 3
   },
   "file_extension": ".py",
   "mimetype": "text/x-python",
   "name": "python",
   "nbconvert_exporter": "python",
   "pygments_lexer": "ipython3",
   "version": "3.10.8"
  }
 },
 "nbformat": 4,
 "nbformat_minor": 5
}
